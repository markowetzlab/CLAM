{
 "cells": [
  {
   "cell_type": "markdown",
   "metadata": {},
   "source": [
    "# Exploring which mb in the CNV data is most important\n",
    "\n",
    "Steps:\n",
    "1. Import the CNV data excel\n",
    "2. Locate where the NP/P column is\n",
    "3. Put the data in train,val,test\n",
    "4. Put through a Random Forest to predict from the CNV if the patient is NP or P\n",
    "5. Evaluate\n",
    "\n",
    "Extension\n",
    "1. Do the same to predict the pathology grading (NDBE, ID...)"
   ]
  },
  {
   "cell_type": "markdown",
   "metadata": {},
   "source": [
    "# CNV"
   ]
  },
  {
   "cell_type": "code",
   "execution_count": 27,
   "metadata": {},
   "outputs": [
    {
     "name": "stderr",
     "output_type": "stream",
     "text": [
      "/tmp/ipykernel_4162948/4077273135.py:13: FutureWarning: Downcasting behavior in `replace` is deprecated and will be removed in a future version. To retain the old behavior, explicitly call `result.infer_objects(copy=False)`. To opt-in to the future behavior, set `pd.set_option('future.no_silent_downcasting', True)`\n",
      "  df[\"Status\"] = df[\"Status\"].replace(\"NP\", 0).replace(\"P\", 1)\n"
     ]
    }
   ],
   "source": [
    "import pandas\n",
    "from sklearn.model_selection import train_test_split\n",
    "\n",
    "path_to_csv = \"/mnt/scratchc/fmlab/zuberi01/masters/model_training_input_230815.csv\"\n",
    "\n",
    "# put into a pandas with the first row being column names\n",
    "df = pandas.read_csv(path_to_csv, header=0)\n",
    "\n",
    "# only keep the Status column and the columns that have  \":\"\n",
    "df = df.loc[:, df.columns.str.contains(\":\") | df.columns.str.contains(\"Status\")]\n",
    "\n",
    "# in the Y column, replace \"NP\" with 0 and \"P\" with 1\n",
    "df[\"Status\"] = df[\"Status\"].replace(\"NP\", 0).replace(\"P\", 1)\n",
    "\n",
    "# the status column is the Y, the rest are the X\n",
    "X = df.drop(\"Status\", axis=1)\n",
    "Y = df[\"Status\"]\n",
    "\n",
    "# separate into train, val and test\n",
    "X_train, X_test, Y_train, Y_test = train_test_split(X, Y, test_size=0.2, random_state=0)\n",
    "X_train, X_val, Y_train, Y_val = train_test_split(X_train, Y_train, test_size=0.2, random_state=0)"
   ]
  },
  {
   "cell_type": "code",
   "execution_count": 28,
   "metadata": {},
   "outputs": [
    {
     "name": "stdout",
     "output_type": "stream",
     "text": [
      "483 121 152\n",
      "Status\n",
      "0    420\n",
      "1    336\n",
      "Name: count, dtype: int64\n",
      "Status\n",
      "0    70\n",
      "1    51\n",
      "Name: count, dtype: int64\n",
      "Status\n",
      "0    78\n",
      "1    74\n",
      "Name: count, dtype: int64\n"
     ]
    }
   ],
   "source": [
    "print(len(X_train), len(X_val), len(X_test))\n",
    "\n",
    "# print the number of P and NP in Y\n",
    "print(Y.value_counts())\n",
    "print(Y_val.value_counts())\n",
    "print(Y_test.value_counts())"
   ]
  },
  {
   "cell_type": "code",
   "execution_count": 29,
   "metadata": {},
   "outputs": [
    {
     "name": "stdout",
     "output_type": "stream",
     "text": [
      "Train accuracy: 1.0\n",
      "Val accuracy: 0.7603305785123967\n",
      "Test accuracy: 0.8289473684210527\n"
     ]
    }
   ],
   "source": [
    "# now train a random forest model and evaluate it\n",
    "\n",
    "from sklearn.ensemble import RandomForestClassifier\n",
    "from sklearn.metrics import accuracy_score\n",
    "\n",
    "model = RandomForestClassifier(n_estimators=41, random_state=0)\n",
    "model.fit(X_train, Y_train)\n",
    "\n",
    "Y_train_pred = model.predict(X_train)\n",
    "Y_val_pred = model.predict(X_val)\n",
    "Y_test_pred = model.predict(X_test)\n",
    "\n",
    "train_accuracy = accuracy_score(Y_train, Y_train_pred)\n",
    "val_accuracy = accuracy_score(Y_val, Y_val_pred)\n",
    "test_accuracy = accuracy_score(Y_test, Y_test_pred)\n",
    "\n",
    "print(f\"Train accuracy: {train_accuracy}\")\n",
    "print(f\"Val accuracy: {val_accuracy}\")\n",
    "print(f\"Test accuracy: {test_accuracy}\")\n"
   ]
  },
  {
   "cell_type": "code",
   "execution_count": 30,
   "metadata": {},
   "outputs": [],
   "source": [
    "import matplotlib.pyplot as plt\n",
    "\n",
    "# Get feature importances\n",
    "feature_importances = model.feature_importances_\n",
    "\n",
    "# Plot feature importances\n",
    "plt.figure(figsize=(12, 6))\n",
    "plt.bar(range(len(feature_importances)), feature_importances, align='center')\n",
    "plt.xlabel('CNV Bins (5mb)')\n",
    "plt.ylabel('Importance')\n",
    "plt.title('Feature Importances in Random Forest for CNV binned every 5mb')\n",
    "plt.show()"
   ]
  },
  {
   "cell_type": "markdown",
   "metadata": {},
   "source": [
    "# Only p"
   ]
  },
  {
   "cell_type": "code",
   "execution_count": 6,
   "metadata": {},
   "outputs": [
    {
     "name": "stdout",
     "output_type": "stream",
     "text": [
      "Index(['Status', '1p', '2p', '3p', '4p', '5p', '6p', '7p', '8p', '9p', '10p',\n",
      "       '11p', '12p', '16p', '17p', '18p', '19p', '20p'],\n",
      "      dtype='object')\n"
     ]
    },
    {
     "name": "stderr",
     "output_type": "stream",
     "text": [
      "/tmp/ipykernel_4162948/2868307366.py:17: FutureWarning: Downcasting behavior in `replace` is deprecated and will be removed in a future version. To retain the old behavior, explicitly call `result.infer_objects(copy=False)`. To opt-in to the future behavior, set `pd.set_option('future.no_silent_downcasting', True)`\n",
      "  df[\"Status\"] = df[\"Status\"].replace(\"NP\", 0).replace(\"P\", 1)\n"
     ]
    }
   ],
   "source": [
    "import pandas\n",
    "from sklearn.model_selection import train_test_split\n",
    "\n",
    "path_to_csv = \"/mnt/scratchc/fmlab/zuberi01/masters/model_training_input_230815.csv\"\n",
    "\n",
    "# put into a pandas with the first row being column names\n",
    "df = pandas.read_csv(path_to_csv, header=0)\n",
    "\n",
    "# only keep the Status column and the columns that end in \"p\"\n",
    "df = df.loc[:, df.columns.str.contains(\"p\") | df.columns.str.contains(\"Status\")]\n",
    "# remove the columns 'Esophageal location', 'OGD_pathology'\n",
    "df = df.drop(['Esophageal location', 'OGD_pathology'], axis=1)\n",
    "\n",
    "# in the Y column, replace \"NP\" with 0 and \"P\" with 1\n",
    "df[\"Status\"] = df[\"Status\"].replace(\"NP\", 0).replace(\"P\", 1)\n",
    "\n",
    "# the status column is the Y, the rest are the X\n",
    "X = df.drop(\"Status\", axis=1)\n",
    "Y = df[\"Status\"]\n",
    "\n",
    "# separate into train, val and test\n",
    "X_train, X_test, Y_train, Y_test = train_test_split(X, Y, test_size=0.2, random_state=0)\n",
    "X_train, X_val, Y_train, Y_val = train_test_split(X_train, Y_train, test_size=0.2, random_state=0)"
   ]
  },
  {
   "cell_type": "code",
   "execution_count": 7,
   "metadata": {},
   "outputs": [
    {
     "name": "stdout",
     "output_type": "stream",
     "text": [
      "Train accuracy: 0.9979296066252588\n",
      "Val accuracy: 0.743801652892562\n",
      "Test accuracy: 0.7960526315789473\n"
     ]
    }
   ],
   "source": [
    "# now train a random forest model and evaluate it\n",
    "\n",
    "from sklearn.ensemble import RandomForestClassifier\n",
    "from sklearn.metrics import accuracy_score\n",
    "\n",
    "model = RandomForestClassifier(n_estimators=41, random_state=0)\n",
    "model.fit(X_train, Y_train)\n",
    "\n",
    "Y_train_pred = model.predict(X_train)\n",
    "Y_val_pred = model.predict(X_val)\n",
    "Y_test_pred = model.predict(X_test)\n",
    "\n",
    "train_accuracy = accuracy_score(Y_train, Y_train_pred)\n",
    "val_accuracy = accuracy_score(Y_val, Y_val_pred)\n",
    "test_accuracy = accuracy_score(Y_test, Y_test_pred)\n",
    "\n",
    "print(f\"Train accuracy: {train_accuracy}\")\n",
    "print(f\"Val accuracy: {val_accuracy}\")\n",
    "print(f\"Test accuracy: {test_accuracy}\")"
   ]
  },
  {
   "cell_type": "code",
   "execution_count": 26,
   "metadata": {},
   "outputs": [
    {
     "data": {
      "image/png": "[encoded data removed]",
      "text/plain": [
       "<Figure size 1200x600 with 1 Axes>"
      ]
     },
     "metadata": {},
     "output_type": "display_data"
    }
   ],
   "source": [
    "import matplotlib.pyplot as plt\n",
    "\n",
    "# Get feature importances\n",
    "feature_importances = model.feature_importances_\n",
    "\n",
    "# Plot feature importances\n",
    "plt.figure(figsize=(12, 6))\n",
    "plt.bar(range(len(feature_importances)), feature_importances, align='center')\n",
    "plt.xlabel('Feature Index')\n",
    "plt.ylabel('Importance')\n",
    "plt.title('Feature Importances in Random Forest for \"p\" Data')\n",
    "plt.show()"
   ]
  },
  {
   "cell_type": "markdown",
   "metadata": {},
   "source": [
    "# Only q"
   ]
  },
  {
   "cell_type": "code",
   "execution_count": 11,
   "metadata": {},
   "outputs": [
    {
     "name": "stdout",
     "output_type": "stream",
     "text": [
      "Index(['Status', '1q', '2q', '3q', '4q', '5q', '6q', '7q', '8q', '9q', '10q',\n",
      "       '11q', '12q', '13q', '14q', '15q', '16q', '17q', '18q', '19q', '20q',\n",
      "       '21q', '22q'],\n",
      "      dtype='object')\n"
     ]
    },
    {
     "name": "stderr",
     "output_type": "stream",
     "text": [
      "/tmp/ipykernel_4162948/2124685178.py:17: FutureWarning: Downcasting behavior in `replace` is deprecated and will be removed in a future version. To retain the old behavior, explicitly call `result.infer_objects(copy=False)`. To opt-in to the future behavior, set `pd.set_option('future.no_silent_downcasting', True)`\n",
      "  df[\"Status\"] = df[\"Status\"].replace(\"NP\", 0).replace(\"P\", 1)\n"
     ]
    }
   ],
   "source": [
    "import pandas\n",
    "from sklearn.model_selection import train_test_split\n",
    "\n",
    "path_to_csv = \"/mnt/scratchc/fmlab/zuberi01/masters/model_training_input_230815.csv\"\n",
    "\n",
    "# put into a pandas with the first row being column names\n",
    "df = pandas.read_csv(path_to_csv, header=0)\n",
    "\n",
    "# only keep the Status column and the columns that end in \"q\"\n",
    "df = df.loc[:, df.columns.str.contains(\"q\") | df.columns.str.contains(\"Status\")]\n",
    "# Remove column \"seq_ID\"\n",
    "df = df.drop(['seq_ID'], axis=1)\n",
    "\n",
    "# in the Y column, replace \"NP\" with 0 and \"P\" with 1\n",
    "df[\"Status\"] = df[\"Status\"].replace(\"NP\", 0).replace(\"P\", 1)\n",
    "\n",
    "# the status column is the Y, the rest are the X\n",
    "X = df.drop(\"Status\", axis=1)\n",
    "Y = df[\"Status\"]\n",
    "\n",
    "# separate into train, val and test\n",
    "X_train, X_test, Y_train, Y_test = train_test_split(X, Y, test_size=0.2, random_state=0)\n",
    "X_train, X_val, Y_train, Y_val = train_test_split(X_train, Y_train, test_size=0.2, random_state=0)"
   ]
  },
  {
   "cell_type": "code",
   "execution_count": 12,
   "metadata": {},
   "outputs": [
    {
     "name": "stdout",
     "output_type": "stream",
     "text": [
      "Train accuracy: 1.0\n",
      "Val accuracy: 0.7520661157024794\n",
      "Test accuracy: 0.7960526315789473\n"
     ]
    }
   ],
   "source": [
    "# now train a random forest model and evaluate it\n",
    "\n",
    "from sklearn.ensemble import RandomForestClassifier\n",
    "from sklearn.metrics import accuracy_score\n",
    "\n",
    "model = RandomForestClassifier(n_estimators=41, random_state=0)\n",
    "model.fit(X_train, Y_train)\n",
    "\n",
    "Y_train_pred = model.predict(X_train)\n",
    "Y_val_pred = model.predict(X_val)\n",
    "Y_test_pred = model.predict(X_test)\n",
    "\n",
    "train_accuracy = accuracy_score(Y_train, Y_train_pred)\n",
    "val_accuracy = accuracy_score(Y_val, Y_val_pred)\n",
    "test_accuracy = accuracy_score(Y_test, Y_test_pred)\n",
    "\n",
    "print(f\"Train accuracy: {train_accuracy}\")\n",
    "print(f\"Val accuracy: {val_accuracy}\")\n",
    "print(f\"Test accuracy: {test_accuracy}\")"
   ]
  },
  {
   "cell_type": "code",
   "execution_count": 13,
   "metadata": {},
   "outputs": [
    {
     "data": {
      "image/png": "[encoded data removed]",
      "text/plain": [
       "<Figure size 1200x600 with 1 Axes>"
      ]
     },
     "metadata": {},
     "output_type": "display_data"
    }
   ],
   "source": [
    "import matplotlib.pyplot as plt\n",
    "\n",
    "# Get feature importances\n",
    "feature_importances = model.feature_importances_\n",
    "\n",
    "# Plot feature importances\n",
    "plt.figure(figsize=(12, 6))\n",
    "plt.bar(range(len(feature_importances)), feature_importances, align='center')\n",
    "plt.xlabel('Feature Index')\n",
    "plt.ylabel('Importance')\n",
    "plt.title('Feature Importances in Random Forest for \"q\" Data')\n",
    "plt.show()"
   ]
  },
  {
   "cell_type": "markdown",
   "metadata": {},
   "source": [
    "# Only P and Q"
   ]
  },
  {
   "cell_type": "code",
   "execution_count": 15,
   "metadata": {},
   "outputs": [
    {
     "name": "stdout",
     "output_type": "stream",
     "text": [
      "Index(['Status', '1p', '1q', '2p', '2q', '3p', '3q', '4p', '4q', '5p', '5q',\n",
      "       '6p', '6q', '7p', '7q', '8p', '8q', '9p', '9q', '10p', '10q', '11p',\n",
      "       '11q', '12p', '12q', '13q', '14q', '15q', '16p', '16q', '17p', '17q',\n",
      "       '18p', '18q', '19p', '19q', '20p', '20q', '21q', '22q'],\n",
      "      dtype='object')\n"
     ]
    },
    {
     "name": "stderr",
     "output_type": "stream",
     "text": [
      "/tmp/ipykernel_4162948/38617949.py:17: FutureWarning: Downcasting behavior in `replace` is deprecated and will be removed in a future version. To retain the old behavior, explicitly call `result.infer_objects(copy=False)`. To opt-in to the future behavior, set `pd.set_option('future.no_silent_downcasting', True)`\n",
      "  df[\"Status\"] = df[\"Status\"].replace(\"NP\", 0).replace(\"P\", 1)\n"
     ]
    }
   ],
   "source": [
    "import pandas\n",
    "from sklearn.model_selection import train_test_split\n",
    "\n",
    "path_to_csv = \"/mnt/scratchc/fmlab/zuberi01/masters/model_training_input_230815.csv\"\n",
    "\n",
    "# put into a pandas with the first row being column names\n",
    "df = pandas.read_csv(path_to_csv, header=0)\n",
    "\n",
    "# only keep the Status column and the columns that end in \"q\" or \"p\"\n",
    "df = df.loc[:, df.columns.str.contains(\"q\") | df.columns.str.contains(\"p\") | df.columns.str.contains(\"Status\")]\n",
    "# Remove column 'Esophageal location', 'OGD_pathology', 'seq_ID'\n",
    "df = df.drop(['Esophageal location', 'OGD_pathology', 'seq_ID'], axis=1)\n",
    "\n",
    "# in the Y column, replace \"NP\" with 0 and \"P\" with 1\n",
    "df[\"Status\"] = df[\"Status\"].replace(\"NP\", 0).replace(\"P\", 1)\n",
    "\n",
    "# the status column is the Y, the rest are the X\n",
    "X = df.drop(\"Status\", axis=1)\n",
    "Y = df[\"Status\"]\n",
    "\n",
    "# separate into train, val and test\n",
    "X_train, X_test, Y_train, Y_test = train_test_split(X, Y, test_size=0.2, random_state=0)\n",
    "X_train, X_val, Y_train, Y_val = train_test_split(X_train, Y_train, test_size=0.2, random_state=0)"
   ]
  },
  {
   "cell_type": "code",
   "execution_count": 16,
   "metadata": {},
   "outputs": [
    {
     "name": "stdout",
     "output_type": "stream",
     "text": [
      "Train accuracy: 1.0\n",
      "Val accuracy: 0.7520661157024794\n",
      "Test accuracy: 0.8157894736842105\n"
     ]
    }
   ],
   "source": [
    "# now train a random forest model and evaluate it\n",
    "\n",
    "from sklearn.ensemble import RandomForestClassifier\n",
    "from sklearn.metrics import accuracy_score\n",
    "\n",
    "model = RandomForestClassifier(n_estimators=41, random_state=0)\n",
    "model.fit(X_train, Y_train)\n",
    "\n",
    "Y_train_pred = model.predict(X_train)\n",
    "Y_val_pred = model.predict(X_val)\n",
    "Y_test_pred = model.predict(X_test)\n",
    "\n",
    "train_accuracy = accuracy_score(Y_train, Y_train_pred)\n",
    "val_accuracy = accuracy_score(Y_val, Y_val_pred)\n",
    "test_accuracy = accuracy_score(Y_test, Y_test_pred)\n",
    "\n",
    "print(f\"Train accuracy: {train_accuracy}\")\n",
    "print(f\"Val accuracy: {val_accuracy}\")\n",
    "print(f\"Test accuracy: {test_accuracy}\")"
   ]
  },
  {
   "cell_type": "code",
   "execution_count": 17,
   "metadata": {},
   "outputs": [
    {
     "data": {
      "image/png": "[encoded data removed]",
      "text/plain": [
       "<Figure size 1200x600 with 1 Axes>"
      ]
     },
     "metadata": {},
     "output_type": "display_data"
    }
   ],
   "source": [
    "import matplotlib.pyplot as plt\n",
    "\n",
    "# Get feature importances\n",
    "feature_importances = model.feature_importances_\n",
    "\n",
    "# Plot feature importances\n",
    "plt.figure(figsize=(12, 6))\n",
    "plt.bar(range(len(feature_importances)), feature_importances, align='center')\n",
    "plt.xlabel('Feature Index')\n",
    "plt.ylabel('Importance')\n",
    "plt.title('Feature Importances in Random Forest')\n",
    "plt.show()"
   ]
  },
  {
   "cell_type": "markdown",
   "metadata": {},
   "source": [
    "# CNV, P and Q"
   ]
  },
  {
   "cell_type": "code",
   "execution_count": 20,
   "metadata": {},
   "outputs": [
    {
     "name": "stderr",
     "output_type": "stream",
     "text": [
      "/tmp/ipykernel_4162948/2401934014.py:15: FutureWarning: Downcasting behavior in `replace` is deprecated and will be removed in a future version. To retain the old behavior, explicitly call `result.infer_objects(copy=False)`. To opt-in to the future behavior, set `pd.set_option('future.no_silent_downcasting', True)`\n",
      "  df[\"Status\"] = df[\"Status\"].replace(\"NP\", 0).replace(\"P\", 1)\n"
     ]
    }
   ],
   "source": [
    "import pandas\n",
    "from sklearn.model_selection import train_test_split\n",
    "\n",
    "path_to_csv = \"/mnt/scratchc/fmlab/zuberi01/masters/model_training_input_230815.csv\"\n",
    "\n",
    "# put into a pandas with the first row being column names\n",
    "df = pandas.read_csv(path_to_csv, header=0)\n",
    "\n",
    "# only keep the Status column and the columns that end in \"q\" or \"p\" or have \":\"\n",
    "df = df.loc[:, df.columns.str.contains(\"q\") | df.columns.str.contains(\"p\") | df.columns.str.contains(\":\") | df.columns.str.contains(\"Status\")]\n",
    "# Remove column 'Esophageal location', 'OGD_pathology', 'seq_ID'\n",
    "df = df.drop(['Esophageal location', 'OGD_pathology', 'seq_ID'], axis=1)\n",
    "\n",
    "# in the Y column, replace \"NP\" with 0 and \"P\" with 1\n",
    "df[\"Status\"] = df[\"Status\"].replace(\"NP\", 0).replace(\"P\", 1)\n",
    "\n",
    "# the status column is the Y, the rest are the X\n",
    "X = df.drop(\"Status\", axis=1)\n",
    "Y = df[\"Status\"]\n",
    "\n",
    "# separate into train, val and test\n",
    "X_train, X_test, Y_train, Y_test = train_test_split(X, Y, test_size=0.2, random_state=0)\n",
    "X_train, X_val, Y_train, Y_val = train_test_split(X_train, Y_train, test_size=0.2, random_state=0)"
   ]
  },
  {
   "cell_type": "code",
   "execution_count": 21,
   "metadata": {},
   "outputs": [
    {
     "name": "stdout",
     "output_type": "stream",
     "text": [
      "Train accuracy: 1.0\n",
      "Val accuracy: 0.7933884297520661\n",
      "Test accuracy: 0.8486842105263158\n"
     ]
    }
   ],
   "source": [
    "# now train a random forest model and evaluate it\n",
    "\n",
    "from sklearn.ensemble import RandomForestClassifier\n",
    "from sklearn.metrics import accuracy_score\n",
    "\n",
    "model = RandomForestClassifier(n_estimators=41, random_state=0)\n",
    "model.fit(X_train, Y_train)\n",
    "\n",
    "Y_train_pred = model.predict(X_train)\n",
    "Y_val_pred = model.predict(X_val)\n",
    "Y_test_pred = model.predict(X_test)\n",
    "\n",
    "train_accuracy = accuracy_score(Y_train, Y_train_pred)\n",
    "val_accuracy = accuracy_score(Y_val, Y_val_pred)\n",
    "test_accuracy = accuracy_score(Y_test, Y_test_pred)\n",
    "\n",
    "print(f\"Train accuracy: {train_accuracy}\")\n",
    "print(f\"Val accuracy: {val_accuracy}\")\n",
    "print(f\"Test accuracy: {test_accuracy}\")"
   ]
  }
 ],
 "metadata": {
  "kernelspec": {
   "display_name": "clam_latest",
   "language": "python",
   "name": "python3"
  },
  "language_info": {
   "codemirror_mode": {
    "name": "ipython",
    "version": 3
   },
   "file_extension": ".py",
   "mimetype": "text/x-python",
   "name": "python",
   "nbconvert_exporter": "python",
   "pygments_lexer": "ipython3",
   "version": "3.10.0"
  }
 },
 "nbformat": 4,
 "nbformat_minor": 2
}
